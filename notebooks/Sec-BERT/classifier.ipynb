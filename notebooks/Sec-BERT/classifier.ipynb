{
 "cells": [
  {
   "cell_type": "code",
   "execution_count": 1,
   "id": "32dbd60e-5410-4a4e-8ce6-82dcb0d1646c",
   "metadata": {},
   "outputs": [],
   "source": [
    "import pickle\n",
    "import torch\n",
    "from torch import nn\n",
    "import util\n",
    "import model\n",
    "import dataset"
   ]
  },
  {
   "cell_type": "code",
   "execution_count": 2,
   "id": "5670aa82-de37-42dc-b7f7-c3a077924def",
   "metadata": {},
   "outputs": [],
   "source": [
    "with open('sec-bert.pkl', 'rb') as file:\n",
    "    net = pickle.load(file)"
   ]
  },
  {
   "cell_type": "code",
   "execution_count": 3,
   "id": "6b459b4f-3f3a-42ef-bdba-4fc9c415edbf",
   "metadata": {},
   "outputs": [],
   "source": [
    "batch_size, max_len = 512, 64\n",
    "train_iter, vocab = util.load_csic_data(batch_size, max_len)"
   ]
  },
  {
   "cell_type": "code",
   "execution_count": 4,
   "id": "2b8404a1-ca68-4ac2-a9f9-4b7fd20063ed",
   "metadata": {},
   "outputs": [],
   "source": [
    "devices = util.try_all_gpus()"
   ]
  },
  {
   "cell_type": "code",
   "execution_count": 5,
   "id": "fe5766d8-0165-4b78-9e89-f358a998ee0d",
   "metadata": {},
   "outputs": [],
   "source": [
    "def get_bert_encoding(net, tokens_a, tokens_b=None):\n",
    "    tokens, segments = dataset.get_tokens_and_segments(tokens_a, tokens_b)\n",
    "    print(f'debug tokens: {tokens}')\n",
    "    token_ids = torch.tensor(vocab[tokens], device=devices[0]).unsqueeze(0)\n",
    "    segments = torch.tensor(segments, device=devices[0]).unsqueeze(0)\n",
    "    valid_len = torch.tensor(len(tokens), device=devices[0]).unsqueeze(0)\n",
    "    encoded_X, _, _ = net(token_ids, segments, valid_len)\n",
    "    return encoded_X"
   ]
  },
  {
   "cell_type": "code",
   "execution_count": 6,
   "id": "60d2195a-87e2-44da-bd0f-eff3234be737",
   "metadata": {},
   "outputs": [
    {
     "name": "stdout",
     "output_type": "stream",
     "text": [
      "debug tokens: ['<cls>', 'id', '3', 'nombre', 'vino+rioja', 'precio', '100', 'cantidad', '55', 'b1', 'a%f1adir+al+carrito', '<sep>']\n"
     ]
    },
    {
     "data": {
      "text/plain": [
       "(torch.Size([1, 12, 128]),\n",
       " torch.Size([1, 128]),\n",
       " tensor([-0.7902,  0.0385, -1.7137], device='cuda:0', grad_fn=<SliceBackward0>))"
      ]
     },
     "execution_count": 6,
     "metadata": {},
     "output_type": "execute_result"
    }
   ],
   "source": [
    "tokens_a = ['id', '3', 'nombre', 'vino+rioja', 'precio', '100', 'cantidad', '55', 'b1', 'a%f1adir+al+carrito']\n",
    "encoded_text = get_bert_encoding(net, tokens_a)\n",
    "encoded_text_cls = encoded_text[:, 0, :]\n",
    "encoded_text_crane = encoded_text[:, 2, :]\n",
    "encoded_text.shape, encoded_text_cls.shape, encoded_text_crane[0][:3]"
   ]
  },
  {
   "cell_type": "code",
   "execution_count": 7,
   "id": "715d4a60-465f-4b1f-85f6-d454bc4b0765",
   "metadata": {},
   "outputs": [
    {
     "data": {
      "text/plain": [
       "tensor([[[-0.1031,  0.9614, -1.7827,  ..., -1.9561, -1.1995,  0.6418],\n",
       "         [-0.7995,  0.9725, -1.7305,  ..., -1.9091, -1.1518,  0.6427],\n",
       "         [-0.7902,  0.0385, -1.7137,  ..., -1.8587, -1.1395,  0.6754],\n",
       "         ...,\n",
       "         [-0.8089,  1.0102, -0.0531,  ..., -1.9355, -1.1740,  0.6623],\n",
       "         [-0.7473,  1.0272, -0.0338,  ..., -1.8981, -0.0132,  0.0134],\n",
       "         [-0.7755,  1.0067, -0.0582,  ..., -1.9322, -1.1934, -0.0141]]],\n",
       "       device='cuda:0', grad_fn=<NativeLayerNormBackward0>)"
      ]
     },
     "execution_count": 7,
     "metadata": {},
     "output_type": "execute_result"
    }
   ],
   "source": [
    "encoded_text"
   ]
  },
  {
   "cell_type": "code",
   "execution_count": null,
   "id": "21856459-e9d0-4a8b-80f2-498b08dadbe4",
   "metadata": {},
   "outputs": [],
   "source": []
  }
 ],
 "metadata": {
  "kernelspec": {
   "display_name": "Python 3 (ipykernel)",
   "language": "python",
   "name": "python3"
  },
  "language_info": {
   "codemirror_mode": {
    "name": "ipython",
    "version": 3
   },
   "file_extension": ".py",
   "mimetype": "text/x-python",
   "name": "python",
   "nbconvert_exporter": "python",
   "pygments_lexer": "ipython3",
   "version": "3.8.10"
  }
 },
 "nbformat": 4,
 "nbformat_minor": 5
}
